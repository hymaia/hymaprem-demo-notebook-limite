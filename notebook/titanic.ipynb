{
 "cells": [
  {
   "cell_type": "code",
   "execution_count": null,
   "id": "32e559e4-b047-4355-a00c-0bce318ad8c4",
   "metadata": {},
   "outputs": [],
   "source": [
    "import pandas as pd\n",
    "from sklearn.tree import DecisionTreeClassifier\n",
    "from sklearn.model_selection import train_test_split\n",
    "from sklearn.metrics import accuracy_score"
   ]
  },
  {
   "cell_type": "code",
   "execution_count": null,
   "id": "a30ea9b9-9808-4ce0-a2a5-b5a3c753df69",
   "metadata": {},
   "outputs": [],
   "source": [
    "train_df = pd.read_csv(\"../src/resources/train.csv\")\n",
    "test_df = pd.read_csv(\"../src/resources/test.csv\")"
   ]
  },
  {
   "cell_type": "code",
   "execution_count": null,
   "id": "12875a74-2024-4419-af8a-1b980951b975",
   "metadata": {},
   "outputs": [],
   "source": [
    "train_df"
   ]
  },
  {
   "cell_type": "code",
   "execution_count": null,
   "id": "40109433-9a56-489e-9080-5b51cf7dcbb8",
   "metadata": {},
   "outputs": [],
   "source": [
    "test_df"
   ]
  },
  {
   "cell_type": "markdown",
   "id": "3c5920cb-132f-48a3-a3d6-636b2afec8da",
   "metadata": {},
   "source": [
    "# Preprocessing"
   ]
  },
  {
   "cell_type": "code",
   "execution_count": null,
   "id": "0c529969-c927-477b-822d-f96a722eab64",
   "metadata": {},
   "outputs": [],
   "source": [
    "test_df[\"Sex\"] = test_df['Sex'].map({'male': 0, 'female': 1})\n",
    "train_df[\"Sex\"] = test_df['Sex'].map({'male': 0, 'female': 1})"
   ]
  },
  {
   "cell_type": "markdown",
   "id": "3e792abf-199a-4617-b9a7-c6df9de5ed70",
   "metadata": {},
   "source": [
    "# Modeling"
   ]
  },
  {
   "cell_type": "code",
   "execution_count": null,
   "id": "0abe85f4-15d3-4d1f-bf04-29ffe8f4d34b",
   "metadata": {},
   "outputs": [],
   "source": [
    "model = DecisionTreeClassifier()"
   ]
  },
  {
   "cell_type": "code",
   "execution_count": null,
   "id": "cd3badaa-656e-4517-a190-4a93490805a2",
   "metadata": {},
   "outputs": [],
   "source": [
    "features = [\"Age\", \"Fare\", \"Sex\"]"
   ]
  },
  {
   "cell_type": "code",
   "execution_count": null,
   "id": "ab1913ea-5c10-418a-9a69-dc5ef71a7066",
   "metadata": {},
   "outputs": [],
   "source": [
    "X = train_df[features]\n",
    "y = train_df[\"Survived\"]"
   ]
  },
  {
   "cell_type": "code",
   "execution_count": null,
   "id": "6a7f7b96-e50b-49a7-a2a8-427c2dd3aec9",
   "metadata": {},
   "outputs": [],
   "source": [
    "X_train, X_validation, y_train, y_validation = train_test_split(X, y)"
   ]
  },
  {
   "cell_type": "code",
   "execution_count": null,
   "id": "bbffd3f7-ff6e-465b-b747-7c75cb07f7c9",
   "metadata": {},
   "outputs": [],
   "source": [
    "model.fit(X_train, y_train)"
   ]
  },
  {
   "cell_type": "code",
   "execution_count": null,
   "id": "d1b35b45-f519-4e4d-a4cf-4addd49a7c25",
   "metadata": {},
   "outputs": [],
   "source": [
    "y_pred = model.predict(X_validation)"
   ]
  },
  {
   "cell_type": "code",
   "execution_count": null,
   "id": "ee0cacb4-3451-4b2f-923d-d28cd1bc6db8",
   "metadata": {},
   "outputs": [],
   "source": [
    "accuracy_score(y_pred, y_validation)"
   ]
  },
  {
   "cell_type": "code",
   "execution_count": null,
   "id": "e6a284e5-fde4-4e3f-92c3-1611201754ea",
   "metadata": {},
   "outputs": [],
   "source": [
    "pred_col = model.predict(test_df[features])\n",
    "res = test_df.copy()[[\"PassengerId\"]]\n",
    "res[\"Survived\"] = pred_col\n",
    "res"
   ]
  },
  {
   "cell_type": "code",
   "execution_count": null,
   "id": "900b9cb7-993e-47de-8fcf-c3fc0520ba00",
   "metadata": {},
   "outputs": [],
   "source": [
    "res.to_csv(\"titanic_preds.csv\", index=False)"
   ]
  },
  {
   "cell_type": "code",
   "execution_count": null,
   "id": "947e8d4b-4b3f-479b-8759-694251f9289a",
   "metadata": {},
   "outputs": [],
   "source": []
  }
 ],
 "metadata": {
  "kernelspec": {
   "display_name": "Python 3 (ipykernel)",
   "language": "python",
   "name": "python3"
  },
  "language_info": {
   "codemirror_mode": {
    "name": "ipython",
    "version": 3
   },
   "file_extension": ".py",
   "mimetype": "text/x-python",
   "name": "python",
   "nbconvert_exporter": "python",
   "pygments_lexer": "ipython3",
   "version": "3.10.12"
  }
 },
 "nbformat": 4,
 "nbformat_minor": 5
}
